{
  "nbformat": 4,
  "nbformat_minor": 0,
  "metadata": {
    "colab": {
      "provenance": [],
      "authorship_tag": "ABX9TyPNz2e4Q2N3fUGN5rNOQSZ5",
      "include_colab_link": true
    },
    "kernelspec": {
      "name": "python3",
      "display_name": "Python 3"
    },
    "language_info": {
      "name": "python"
    }
  },
  "cells": [
    {
      "cell_type": "markdown",
      "metadata": {
        "id": "view-in-github",
        "colab_type": "text"
      },
      "source": [
        "<a href=\"https://colab.research.google.com/github/Yreshmi/deep_learning/blob/main/DL22.ipynb\" target=\"_parent\"><img src=\"https://colab.research.google.com/assets/colab-badge.svg\" alt=\"Open In Colab\"/></a>"
      ]
    },
    {
      "cell_type": "code",
      "execution_count": 5,
      "metadata": {
        "id": "kJZ5FBlzDq7a"
      },
      "outputs": [],
      "source": [
        "import numpy as np\n",
        "import random\n",
        "import sys"
      ]
    },
    {
      "cell_type": "code",
      "source": [
        "and_gate=[[(1,1),1],[(1,-1),-1],[(-1,-1),1],[(-1,1),-1]]"
      ],
      "metadata": {
        "id": "YYTsEtk0FsWw"
      },
      "execution_count": 6,
      "outputs": []
    },
    {
      "cell_type": "code",
      "source": [
        "or_gate=[[(1,1),1],[(1,-1),1],[(-1,-1),-1],[(-1,1),1]]"
      ],
      "metadata": {
        "id": "40GJ-AHdHmxc"
      },
      "execution_count": 7,
      "outputs": []
    },
    {
      "cell_type": "code",
      "source": [
        "def activation_function(x):\n",
        "  if x>0:\n",
        "    return 1\n",
        "  elif x<0:\n",
        "    return -1"
      ],
      "metadata": {
        "id": "tFvXw28KH9ic"
      },
      "execution_count": 8,
      "outputs": []
    },
    {
      "cell_type": "code",
      "source": [
        "def run_perceptron(gate):\n",
        "  bias=(1,)\n",
        "  learning_consatnt=0.1      #This is the rate at which the weights of the perceptron are adjusted during training\n",
        "  n=50    #no.of iterations perceptron will go through\n",
        "  weights=[]    # This list will store the weights of the perceptron.\n",
        "                 #It's initialized as an empty list and will be populated with random weights.\n",
        "\n",
        "\n",
        "#WEIGHT INITIALIZATION\n",
        "  for i in range(3):\n",
        "    weights.append(random.uniform(1,-1))      #This loop initializes the weights of the perceptron.\n",
        "                                              # It iterates three times to assign three random weights, one for each input and one for the bias.\n",
        "\n",
        "#TRAINING\n",
        "  for i in range(n):\n",
        "    inputs,expected_output=random.choice(gate)\n",
        "    inputs+=bias\n",
        "    weighted_sum=np.dot(inputs,weights)\n",
        "    guess=actiavtion_function(weighted_sum)\n",
        "    error=expected_error-guess\n",
        "    weights+=learning_constant*error*np.array(inputs)\n",
        "\n",
        "#TESTING\n",
        "    inputs, expected_output = random.choice(gate)\n",
        "    print(\"inputs: \" + str(inputs))\n",
        "    inputs = inputs + bias\n",
        "    weighted_sum = np.dot(inputs, weights)\n",
        "    print(\"weighted sum: \" + str(weighted_sum))\n",
        "    print(\"correct answer: \" + str(expected_output))\n",
        "    print(\"perceptron guess: \" + str(activation_function(weighted_sum)) + '\\n')\n",
        "\n",
        "#test loop for logic gates\n",
        "  tests=2\n",
        "  for i in range(tests):\n",
        "    print(\"// AND //\")\n",
        "    run_perceptron(and_gate)\n",
        "\n",
        "    print(\"// OR //\")\n",
        "    run_perceptron(or_gate)\n"
      ],
      "metadata": {
        "id": "40ey8vXlIUV_"
      },
      "execution_count": 8,
      "outputs": []
    }
  ]
}