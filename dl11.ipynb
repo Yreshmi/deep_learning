{
  "nbformat": 4,
  "nbformat_minor": 0,
  "metadata": {
    "colab": {
      "provenance": [],
      "authorship_tag": "ABX9TyOmooxiyaHpsBm3uupG0r+l",
      "include_colab_link": true
    },
    "kernelspec": {
      "name": "python3",
      "display_name": "Python 3"
    },
    "language_info": {
      "name": "python"
    }
  },
  "cells": [
    {
      "cell_type": "markdown",
      "metadata": {
        "id": "view-in-github",
        "colab_type": "text"
      },
      "source": [
        "<a href=\"https://colab.research.google.com/github/Yreshmi/deep_learning/blob/main/dl11.ipynb\" target=\"_parent\"><img src=\"https://colab.research.google.com/assets/colab-badge.svg\" alt=\"Open In Colab\"/></a>"
      ]
    },
    {
      "cell_type": "code",
      "execution_count": 9,
      "metadata": {
        "id": "xh_QFctLGR_S"
      },
      "outputs": [],
      "source": [
        "\n",
        "import numpy as np\n",
        "np.random.seed(50)\n",
        "def stepFunction(t):\n",
        "  if t>=0:\n",
        "    return 1\n",
        "  return 0\n",
        "\n",
        "def prediction(x,w,b):\n",
        "  return stepFunction((np.matmul(x,w)+b)[0])\n",
        "\n",
        "def perceptronStep(x,y,w,b,learn_rate=0.01):\n",
        "  for i in range(len(x)):\n",
        "     yhat=prediction(x[i],w,b)\n",
        "     if y[i]-yhat == 1:\n",
        "       w[0]+=w[i][0]*learn_rate\n",
        "       w[1]+=w[i][1]*learn_rate\n",
        "       b+=learn_rate\n",
        "     elif y[i]-yhat == -1:\n",
        "       w[1]-=w[i][1]*learn_rate\n",
        "       b-=learn_rate\n",
        "  return w,b\n",
        "\n",
        "def trainPerceptronAlgorithm(x,y,learn_rate,num_epochs=25):\n",
        "  x_min,x_max=min(x.y[0]),max(x.y[0])\n",
        "  y_min,y_max=min(x.y[1]),max(x.y[1])\n",
        "  w=np.array(random.rand(2,1))\n",
        "  b=np.random.rand(1)[0]+X_max\n",
        "\n",
        "  boundary_lines=[]\n",
        "  for i in range(num_epochs):\n",
        "    w,b = perceptronStep(x,y,w,b,learn_rate)\n",
        "    boundary_lines.append((-w[0]/w[1]),(-b/w[1]))\n",
        "  return boundary_lines"
      ]
    }
  ]
}